{
 "cells": [
  {
   "cell_type": "markdown",
   "id": "70558a2d",
   "metadata": {},
   "source": [
    "# literature review"
   ]
  },
  {
   "cell_type": "markdown",
   "id": "60e4368c",
   "metadata": {},
   "source": [
    "This notebook is for LLM project.\n",
    "\n"
   ]
  },
  {
   "cell_type": "markdown",
   "id": "d8fc6cd6",
   "metadata": {},
   "source": [
    "## 1. \n",
    "\n",
    "Name: Interstitial lung disease diagnosis and prognosis using an AI system integrating longitudinal data\n",
    "\n",
    "Link: https://doi.org/10.1038/s41467-023-37720-5\n",
    "\n",
    "Abstract: \n",
    "\n",
    "This study developed an artificial intelligence system to help diagnose and predict outcomes for interstitial lung disease (ILD) patients. The process has three main steps:\n",
    "\n",
    "- ** Image analysis: Deep learning models (CNN and Vision Transformer) automatically examine chest CT scans to find patterns linked to different ILD types.\n",
    "\n",
    "- ** Clinical data analysis: Machine learning algorithms (MLP, XGBoost, SVM) analyze patient information like age, smoking history, and lung function to help identify the ILD subtype.\n",
    "\n",
    "- ** Combined prediction: The system merges image and clinical data for a more accurate diagnosis, and uses models (Transformer, LSTM) to track patient data over time and predict three-year survival chances.\n",
    "\n",
    "\n",
    "## 2.\n",
    "\n",
    "\n"
   ]
  }
 ],
 "metadata": {
  "kernelspec": {
   "display_name": "base",
   "language": "python",
   "name": "python3"
  },
  "language_info": {
   "name": "python",
   "version": "3.12.7"
  }
 },
 "nbformat": 4,
 "nbformat_minor": 5
}
